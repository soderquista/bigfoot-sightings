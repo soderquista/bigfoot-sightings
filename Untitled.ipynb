{
 "cells": [
  {
   "cell_type": "code",
   "execution_count": 40,
   "id": "c1b23449",
   "metadata": {},
   "outputs": [],
   "source": [
    "from flask import Flask, jsonify\n",
    "import json\n",
    "import pprint"
   ]
  },
  {
   "cell_type": "code",
   "execution_count": 18,
   "id": "7289d22f",
   "metadata": {},
   "outputs": [
    {
     "name": "stdout",
     "output_type": "stream",
     "text": [
      "{\"YEAR\": \"2000\", \"SEASON\": \"Summer\", \"MONTH\": \"June\", \"DATE\": \"23\", \"STATE\": \"Wyoming\", \"COUNTY\": \"Washakie County\", \"LOCATION_DETAILS\": \"We were on our way to Rapid City, so we were heading East. It was in the Bighorn National forest. On the switchbacks. 11 miles east from Tensleep Wy.\", \"NEAREST_TOWN\": \"Tensleep\", \"NEAREST_ROAD\": \"SR16\", \"OBSERVED\": \"I am not sure how relevant this report will be, however I thought it important to add so that any other possible events in the area could be correlated. I was driving; my wife was in the passenger seat and had the \\\"sighting\\\". We had already been through Yellowstone, on a cross country trip and had been on the lookout for wildlife all through our driving, so my wife was very sure of what she saw. She had been good about picking out Antelope, Deer, and a Grizzly bear on earlier days during our trip. We were proceeding up the mountain pass, and were in the middle of the switchbacks when my wife saw what she described as \\\"A man in dark clothes\\\" on the side of the road on an upcoming part of the pass. She was visibly surprised that the \\\"Man\\\" was not there as we turned the corner where he would have been. There were steep cliffs on each side of the road, with no turnouts and very little shoulder. She told me that she was paying attention as we rounded the switchback were he would have been so she could warn me about the man on the side of the road.\", \"ALSO_NOTICED\": \"Nothing\", \"OTHER_WITNESSES\": \"There was one passenger in the car and a driver. The husband was driving.\", \"OTHER_STORIES\": \"None\", \"TIME_AND_CONDITIONS\": \"It was around Noon, bright Sunny day.\", \"ENVIRONMENT\": \"Mountainous Forest, on very steep hills, numerous rock formations\\\\cliffs. There was a small river in the valley.\", \"REPORT_NUMBER\": \"798\", \"REPORT_CLASS\": \"Class B\"}\n",
      "\n"
     ]
    }
   ],
   "source": [
    "with open('bfro_reports.json') as file:\n",
    "    for line in file:\n",
    "        print(line)\n",
    "        break"
   ]
  },
  {
   "cell_type": "code",
   "execution_count": 45,
   "id": "be2b9938",
   "metadata": {},
   "outputs": [
    {
     "name": "stdout",
     "output_type": "stream",
     "text": [
      "[{'YEAR': '2000', 'SEASON': 'Summer', 'MONTH': 'June', 'DATE': '23', 'STATE': 'Wyoming', 'COUNTY': 'Washakie County', 'LOCATION_DETAILS': 'We were on our way to Rapid City, so we were heading East. It was in the Bighorn National forest. On the switchbacks. 11 miles east from Tensleep Wy.', 'NEAREST_TOWN': 'Tensleep', 'NEAREST_ROAD': 'SR16', 'OBSERVED': 'I am not sure how relevant this report will be, however I thought it important to add so that any other possible events in the area could be correlated. I was driving; my wife was in the passenger seat and had the \"sighting\". We had already been through Yellowstone, on a cross country trip and had been on the lookout for wildlife all through our driving, so my wife was very sure of what she saw. She had been good about picking out Antelope, Deer, and a Grizzly bear on earlier days during our trip. We were proceeding up the mountain pass, and were in the middle of the switchbacks when my wife saw what she described as \"A man in dark clothes\" on the side of the road on an upcoming part of the pass. She was visibly surprised that the \"Man\" was not there as we turned the corner where he would have been. There were steep cliffs on each side of the road, with no turnouts and very little shoulder. She told me that she was paying attention as we rounded the switchback were he would have been so she could warn me about the man on the side of the road.', 'ALSO_NOTICED': 'Nothing', 'OTHER_WITNESSES': 'There was one passenger in the car and a driver. The husband was driving.', 'OTHER_STORIES': 'None', 'TIME_AND_CONDITIONS': 'It was around Noon, bright Sunny day.', 'ENVIRONMENT': 'Mountainous Forest, on very steep hills, numerous rock formations\\\\cliffs. There was a small river in the valley.', 'REPORT_NUMBER': '798', 'REPORT_CLASS': 'Class B'}]\n"
     ]
    }
   ],
   "source": [
    "lst = []\n",
    "with open('bfro_reports.json') as file:\n",
    "    for line in file:\n",
    "        lst.append(json.loads(line))\n",
    "        break\n",
    "        \n",
    "print(lst)"
   ]
  },
  {
   "cell_type": "code",
   "execution_count": 39,
   "id": "aa128aae",
   "metadata": {},
   "outputs": [
    {
     "name": "stdout",
     "output_type": "stream",
     "text": [
      "[\"{\\\"YEAR\\\": \\\"2000\\\", \\\"SEASON\\\": \\\"Summer\\\", \\\"MONTH\\\": \\\"June\\\", \\\"DATE\\\": \\\"23\\\", \\\"STATE\\\": \\\"Wyoming\\\", \\\"COUNTY\\\": \\\"Washakie County\\\", \\\"LOCATION_DETAILS\\\": \\\"We were on our way to Rapid City, so we were heading East. It was in the Bighorn National forest. On the switchbacks. 11 miles east from Tensleep Wy.\\\", \\\"NEAREST_TOWN\\\": \\\"Tensleep\\\", \\\"NEAREST_ROAD\\\": \\\"SR16\\\", \\\"OBSERVED\\\": \\\"I am not sure how relevant this report will be, however I thought it important to add so that any other possible events in the area could be correlated. I was driving; my wife was in the passenger seat and had the \\\\\\\"sighting\\\\\\\". We had already been through Yellowstone, on a cross country trip and had been on the lookout for wildlife all through our driving, so my wife was very sure of what she saw. She had been good about picking out Antelope, Deer, and a Grizzly bear on earlier days during our trip. We were proceeding up the mountain pass, and were in the middle of the switchbacks when my wife saw what she described as \\\\\\\"A man in dark clothes\\\\\\\" on the side of the road on an upcoming part of the pass. She was visibly surprised that the \\\\\\\"Man\\\\\\\" was not there as we turned the corner where he would have been. There were steep cliffs on each side of the road, with no turnouts and very little shoulder. She told me that she was paying attention as we rounded the switchback were he would have been so she could warn me about the man on the side of the road.\\\", \\\"ALSO_NOTICED\\\": \\\"Nothing\\\", \\\"OTHER_WITNESSES\\\": \\\"There was one passenger in the car and a driver. The husband was driving.\\\", \\\"OTHER_STORIES\\\": \\\"None\\\", \\\"TIME_AND_CONDITIONS\\\": \\\"It was around Noon, bright Sunny day.\\\", \\\"ENVIRONMENT\\\": \\\"Mountainous Forest, on very steep hills, numerous rock formations\\\\\\\\cliffs. There was a small river in the valley.\\\", \\\"REPORT_NUMBER\\\": \\\"798\\\", \\\"REPORT_CLASS\\\": \\\"Class B\\\"}\\n\"]\n"
     ]
    }
   ],
   "source": [
    "lst = []\n",
    "with open('bfro_reports.json') as file:\n",
    "    for line in file:\n",
    "        lst.append(line)\n",
    "        break\n",
    "    print(json.dumps(lst))"
   ]
  },
  {
   "cell_type": "code",
   "execution_count": null,
   "id": "7f30ba90",
   "metadata": {},
   "outputs": [],
   "source": []
  }
 ],
 "metadata": {
  "kernelspec": {
   "display_name": "PythonData",
   "language": "python",
   "name": "pythondata"
  },
  "language_info": {
   "codemirror_mode": {
    "name": "ipython",
    "version": 3
   },
   "file_extension": ".py",
   "mimetype": "text/x-python",
   "name": "python",
   "nbconvert_exporter": "python",
   "pygments_lexer": "ipython3",
   "version": "3.7.7"
  }
 },
 "nbformat": 4,
 "nbformat_minor": 5
}
